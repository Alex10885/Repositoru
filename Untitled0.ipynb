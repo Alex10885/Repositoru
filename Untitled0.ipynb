{
  "nbformat": 4,
  "nbformat_minor": 0,
  "metadata": {
    "colab": {
      "name": "Untitled0.ipynb",
      "provenance": [],
      "collapsed_sections": [],
      "authorship_tag": "ABX9TyN2fqxEhDB2sJWVnoOkGmx4",
      "include_colab_link": true
    },
    "kernelspec": {
      "name": "python3",
      "display_name": "Python 3"
    }
  },
  "cells": [
    {
      "cell_type": "markdown",
      "metadata": {
        "id": "view-in-github",
        "colab_type": "text"
      },
      "source": [
        "<a href=\"https://colab.research.google.com/github/Alex10885/Repositoru/blob/master/Untitled0.ipynb\" target=\"_parent\"><img src=\"https://colab.research.google.com/assets/colab-badge.svg\" alt=\"Open In Colab\"/></a>"
      ]
    },
    {
      "cell_type": "code",
      "metadata": {
        "id": "PGUbtnDS9YXr",
        "colab_type": "code",
        "colab": {
          "base_uri": "https://localhost:8080/",
          "height": 313
        },
        "outputId": "73f17d5a-d712-4963-f199-5151c37acaa4"
      },
      "source": [
        "import tensorflow\n",
        "import keras\n",
        "from keras.datasets import mnist\n",
        "from keras.models import Sequential\n",
        "from keras.layers import Dense\n",
        "from keras.utils import np_utils\n",
        "\n",
        "model = Sequential()\n",
        "\n",
        "model.add(Dense(50, input_dim= 1, activation=\"sigmoid\", kernel_initializer=\"random_normal\", use_bias=True))\n",
        "model.add(Dense(1, activation=\"linear\", kernel_initializer=\"random_normal\", use_bias=False))\n",
        "sgd = keras.optimizers.SGD(lr=0.001, momentum=0.0, nesterov=False)\n",
        "\n",
        "model.compile(loss=\"mse\", optimizer=sgd, metrics=[\"mse\"])\n",
        "print(model.summary())"
      ],
      "execution_count": 4,
      "outputs": [
        {
          "output_type": "stream",
          "text": [
            "WARNING:tensorflow:From /usr/local/lib/python3.6/dist-packages/keras/optimizers.py:793: The name tf.train.Optimizer is deprecated. Please use tf.compat.v1.train.Optimizer instead.\n",
            "\n",
            "Model: \"sequential_4\"\n",
            "_________________________________________________________________\n",
            "Layer (type)                 Output Shape              Param #   \n",
            "=================================================================\n",
            "dense_7 (Dense)              (None, 50)                100       \n",
            "_________________________________________________________________\n",
            "dense_8 (Dense)              (None, 1)                 50        \n",
            "=================================================================\n",
            "Total params: 150\n",
            "Trainable params: 150\n",
            "Non-trainable params: 0\n",
            "_________________________________________________________________\n",
            "None\n"
          ],
          "name": "stdout"
        }
      ]
    },
    {
      "cell_type": "code",
      "metadata": {
        "id": "vq1q3se7-wje",
        "colab_type": "code",
        "colab": {}
      },
      "source": [
        ""
      ],
      "execution_count": 0,
      "outputs": []
    },
    {
      "cell_type": "markdown",
      "metadata": {
        "id": "qTL6eb73-kmD",
        "colab_type": "text"
      },
      "source": [
        "# New Section"
      ]
    }
  ]
}